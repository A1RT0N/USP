{
  "cells": [
    {
      "cell_type": "markdown",
      "metadata": {
        "id": "E4puQFh4XzxS"
      },
      "source": [
        "# <font color='blue'>Grafos e Álgebra Linear</font>\n",
        "\n",
        "## Jorge Luiz Franco  <br>\n",
        "ICMC-USP\n",
        "\n",
        "----\n",
        "\n",
        "Baseado nas aulas dos profs: Cynthia Lage Ferreira e Luis Gustavo Nonato"
      ]
    },
    {
      "cell_type": "markdown",
      "metadata": {
        "id": "xZQx_QKwllvB"
      },
      "source": [
        "#Matrizes"
      ]
    },
    {
      "cell_type": "code",
      "execution_count": 109,
      "metadata": {
        "id": "eWEmESqFi1z4"
      },
      "outputs": [
        {
          "ename": "",
          "evalue": "",
          "output_type": "error",
          "traceback": [
            "\u001b[1;31mRunning cells with 'Python 3.12.6' requires the ipykernel package.\n",
            "\u001b[1;31mRun the following command to install 'ipykernel' into the Python environment. \n",
            "\u001b[1;31mCommand: '/bin/python3 -m pip install ipykernel -U --user --force-reinstall'"
          ]
        }
      ],
      "source": [
        "import numpy as np"
      ]
    },
    {
      "cell_type": "code",
      "execution_count": 110,
      "metadata": {
        "id": "buhj2gL0i3dX"
      },
      "outputs": [],
      "source": [
        "A= np.array([[1,2,3], [3,2,1], [5,4,4]])"
      ]
    },
    {
      "cell_type": "code",
      "execution_count": 111,
      "metadata": {
        "id": "qwriPTI0mWk3"
      },
      "outputs": [],
      "source": [
        "B= A.T"
      ]
    },
    {
      "cell_type": "code",
      "execution_count": null,
      "metadata": {
        "colab": {
          "base_uri": "https://localhost:8080/"
        },
        "id": "-aB4aVeNmbG7",
        "outputId": "fe585289-bc5d-4885-f0c1-c9aa1f7247ff"
      },
      "outputs": [],
      "source": [
        "np.dot(A,B)"
      ]
    },
    {
      "cell_type": "code",
      "execution_count": 113,
      "metadata": {
        "id": "5fM0yRgImeX6"
      },
      "outputs": [],
      "source": [
        "x= np.array([1,2,3])"
      ]
    },
    {
      "cell_type": "code",
      "execution_count": null,
      "metadata": {
        "colab": {
          "base_uri": "https://localhost:8080/"
        },
        "id": "zsQksWilm0Oc",
        "outputId": "b6741ea2-c3ac-4463-cc51-e7d3f2497aa3"
      },
      "outputs": [],
      "source": [
        "A"
      ]
    },
    {
      "cell_type": "code",
      "execution_count": null,
      "metadata": {
        "colab": {
          "base_uri": "https://localhost:8080/"
        },
        "id": "qFvyC7n-mjFZ",
        "outputId": "68bef529-3d6a-41ca-e60b-062eddb6168d"
      },
      "outputs": [],
      "source": [
        "np.dot(A,x)"
      ]
    },
    {
      "cell_type": "markdown",
      "metadata": {
        "id": "CVil-Vf5lo2M"
      },
      "source": [
        "# Grafos"
      ]
    },
    {
      "cell_type": "code",
      "execution_count": 117,
      "metadata": {
        "id": "KnsxgWgVi-Sc"
      },
      "outputs": [],
      "source": [
        "import networkx as nx"
      ]
    },
    {
      "cell_type": "code",
      "execution_count": null,
      "metadata": {
        "colab": {
          "base_uri": "https://localhost:8080/",
          "height": 516
        },
        "id": "xxVdhVPdPJLE",
        "outputId": "c632cb96-f784-4df0-ac43-876569325e80"
      },
      "outputs": [],
      "source": [
        "nx.draw(nx.complete_graph(8))"
      ]
    },
    {
      "cell_type": "markdown",
      "metadata": {
        "id": "v0bLVr5Yk1RT"
      },
      "source": [
        "https://networkx.org/documentation/stable/reference/classes/graph.html#networkx.Graph"
      ]
    },
    {
      "cell_type": "code",
      "execution_count": 119,
      "metadata": {
        "id": "rmeVUxq8kOgu"
      },
      "outputs": [],
      "source": [
        "G= nx.Graph()"
      ]
    },
    {
      "cell_type": "code",
      "execution_count": 120,
      "metadata": {
        "id": "AzmnK40OkQqp"
      },
      "outputs": [],
      "source": [
        "G.add_node('a')"
      ]
    },
    {
      "cell_type": "code",
      "execution_count": 121,
      "metadata": {
        "id": "vy5zQhnnkV7L"
      },
      "outputs": [],
      "source": [
        "G.add_node('b')"
      ]
    },
    {
      "cell_type": "code",
      "execution_count": 122,
      "metadata": {
        "id": "XEzUFx7ekXi6"
      },
      "outputs": [],
      "source": [
        "G.add_edge('a', 'b')"
      ]
    },
    {
      "cell_type": "code",
      "execution_count": null,
      "metadata": {
        "colab": {
          "base_uri": "https://localhost:8080/",
          "height": 516
        },
        "id": "0UZXLhWMkZrU",
        "outputId": "d213a792-2e41-40f5-e4e6-c22f27e1f32e"
      },
      "outputs": [],
      "source": [
        "nx.draw(G, with_labels=True)"
      ]
    },
    {
      "cell_type": "code",
      "execution_count": 124,
      "metadata": {
        "id": "Tg3_ojd-nBYU"
      },
      "outputs": [],
      "source": [
        "G.add_edge('a','c')"
      ]
    },
    {
      "cell_type": "code",
      "execution_count": 125,
      "metadata": {
        "id": "jPzzv8N9MnyJ"
      },
      "outputs": [],
      "source": [
        "G.add_edge('a','d')"
      ]
    },
    {
      "cell_type": "code",
      "execution_count": 126,
      "metadata": {
        "id": "PKthIRfbMuii"
      },
      "outputs": [],
      "source": [
        "G.add_edge('d','c')"
      ]
    },
    {
      "cell_type": "code",
      "execution_count": 127,
      "metadata": {
        "id": "N7hZYCIdM3FA"
      },
      "outputs": [],
      "source": [
        "G.add_edge('d','e')\n",
        "G.add_edge('d','f')\n",
        "G.add_edge('f','e')"
      ]
    },
    {
      "cell_type": "code",
      "execution_count": null,
      "metadata": {
        "colab": {
          "base_uri": "https://localhost:8080/",
          "height": 516
        },
        "id": "NY_7EXKBnFCs",
        "outputId": "6ba4f109-e5f5-4f5e-e123-9f64120b9897"
      },
      "outputs": [],
      "source": [
        "nx.draw(G, with_labels=True)"
      ]
    },
    {
      "cell_type": "markdown",
      "metadata": {
        "id": "JPE-KEH7W9pg"
      },
      "source": [
        "### Definição da Matriz de Adjacência simples\n",
        "\n",
        "Em teoria dos grafos, a **matriz de adjacência** é uma matriz quadrada usada para representar um grafo finito. Os elementos da matriz indicam se os pares de vértices estão adjacentes ou não no grafo.\n",
        "\n",
        "Para um grafo $G = (V, E)$ com $n$ vértices, a matriz de adjacência $A$ é uma matriz $n \\times n$, onde o elemento $A_{ij}$ é definido como:\n",
        "\n",
        "$$\n",
        "A_{ij} =\n",
        "\\begin{cases}\n",
        "1, & \\text{se existe uma aresta do vértice } i \\text{ para o vértice } j \\\\\n",
        "0, & \\text{caso contrário}\n",
        "\\end{cases}\n",
        "$$\n"
      ]
    },
    {
      "cell_type": "markdown",
      "metadata": {
        "id": "zgWtMbDuYjs2"
      },
      "source": [
        "![image.png](data:image/png;base64,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)\n",
        "\n"
      ]
    },
    {
      "cell_type": "markdown",
      "metadata": {
        "id": "GyEBFBE3Z3XH"
      },
      "source": [
        "### Qual a matriz de adjacência do grafo anterior?"
      ]
    },
    {
      "cell_type": "markdown",
      "metadata": {
        "id": "QvgfK4IBOmxZ"
      },
      "source": [
        "https://networkx.org/documentation/stable/reference/generated/networkx.convert_matrix.from_numpy_array.html"
      ]
    },
    {
      "cell_type": "code",
      "execution_count": null,
      "metadata": {
        "colab": {
          "base_uri": "https://localhost:8080/",
          "height": 516
        },
        "id": "EVvS-lIcX8oH",
        "outputId": "9c304248-f1c9-4edb-efbc-f42eabb96859"
      },
      "outputs": [],
      "source": [
        "nx.draw(nx.from_numpy_array(adj))"
      ]
    },
    {
      "cell_type": "code",
      "execution_count": 129,
      "metadata": {
        "id": "O7HKq7mkX-Qq"
      },
      "outputs": [],
      "source": []
    },
    {
      "cell_type": "markdown",
      "metadata": {
        "id": "70Jv_W9AYel-"
      },
      "source": [
        "https://networkx.org/documentation/stable/reference/generated/networkx.linalg.graphmatrix.adjacency_matrix.html"
      ]
    },
    {
      "cell_type": "code",
      "execution_count": 130,
      "metadata": {
        "id": "mY2XwFWdbdz2"
      },
      "outputs": [],
      "source": [
        "adj= nx.adjacency_matrix(G).todense()"
      ]
    },
    {
      "cell_type": "code",
      "execution_count": null,
      "metadata": {
        "colab": {
          "base_uri": "https://localhost:8080/"
        },
        "id": "jY-nn-86cqiM",
        "outputId": "2d93617c-13fd-4466-e9c8-db8fb74142a0"
      },
      "outputs": [],
      "source": [
        "check_symmetric(adj)"
      ]
    },
    {
      "cell_type": "code",
      "execution_count": null,
      "metadata": {
        "colab": {
          "base_uri": "https://localhost:8080/",
          "height": 516
        },
        "id": "-pYKhlrDoSKf",
        "outputId": "40767efa-3151-436f-fd35-a66c65f9d68c"
      },
      "outputs": [],
      "source": [
        "nx.draw(nx.from_numpy_array(adj))"
      ]
    },
    {
      "cell_type": "markdown",
      "metadata": {
        "id": "UO7ivZebjmPN"
      },
      "source": [
        "### Grafos direcionados"
      ]
    },
    {
      "cell_type": "code",
      "execution_count": 134,
      "metadata": {
        "id": "YEYW-yLYkCZB"
      },
      "outputs": [],
      "source": [
        "DG = nx.DiGraph()"
      ]
    },
    {
      "cell_type": "code",
      "execution_count": 135,
      "metadata": {
        "id": "3blDlv2ukJiA"
      },
      "outputs": [],
      "source": [
        "DG.add_edge(0, 1)"
      ]
    },
    {
      "cell_type": "code",
      "execution_count": null,
      "metadata": {
        "colab": {
          "base_uri": "https://localhost:8080/",
          "height": 516
        },
        "id": "NbB6ZdLakMlX",
        "outputId": "35edd6c3-ec5b-48f7-c097-fa68867e1ad7"
      },
      "outputs": [],
      "source": [
        "nx.draw(DG)"
      ]
    },
    {
      "cell_type": "code",
      "execution_count": 137,
      "metadata": {
        "id": "AJ3tmOtXjo2v"
      },
      "outputs": [],
      "source": [
        "dir_adj= np.array([[0, 0, 0, 1], [1 , 0, 1, 1], [1 , 1, 0, 0], [1, 1, 1, 0]])"
      ]
    },
    {
      "cell_type": "code",
      "execution_count": 138,
      "metadata": {
        "id": "jOukgqvaj62_"
      },
      "outputs": [],
      "source": [
        "DG = nx.from_numpy_array(dir_adj, create_using=nx.DiGraph)"
      ]
    },
    {
      "cell_type": "code",
      "execution_count": null,
      "metadata": {
        "colab": {
          "base_uri": "https://localhost:8080/",
          "height": 516
        },
        "id": "6bktu8q_kW50",
        "outputId": "ae4c7442-773c-4df1-f454-0491779389d4"
      },
      "outputs": [],
      "source": [
        "nx.draw(DG)"
      ]
    },
    {
      "cell_type": "markdown",
      "metadata": {
        "id": "-w4JhekZv1wr"
      },
      "source": [
        "### Que propriedade interessante as matrizes de adjacência tem? Em termos de dimensões"
      ]
    },
    {
      "cell_type": "code",
      "execution_count": null,
      "metadata": {
        "colab": {
          "base_uri": "https://localhost:8080/"
        },
        "id": "lI5EossnwArH",
        "outputId": "1d5b6f7c-db0c-4279-8350-b96d2903ab4f"
      },
      "outputs": [],
      "source": [
        "adj.shape"
      ]
    },
    {
      "cell_type": "markdown",
      "metadata": {
        "id": "rllWb9XCx4lO"
      },
      "source": [
        "### As matrizes são quadradas, logo conseguimos calcular autovalores e autovetores"
      ]
    },
    {
      "cell_type": "markdown",
      "metadata": {
        "id": "ArC7f6qiyf4a"
      },
      "source": [
        "https://numpy.org/doc/2.0/reference/generated/numpy.linalg.eigh.html"
      ]
    },
    {
      "cell_type": "markdown",
      "metadata": {
        "id": "kP3iLp29ykWX"
      },
      "source": [
        "https://numpy.org/doc/stable/reference/generated/numpy.linalg.eig.html"
      ]
    },
    {
      "cell_type": "markdown",
      "metadata": {
        "id": "PVXSiVTOyl_S"
      },
      "source": [
        "Qual dos métodos usamos para a matriz de adjacência do Grafo sem direção? Qual usamos para o Direcionado?\n",
        "\n",
        "#### Calcule para ambos"
      ]
    },
    {
      "cell_type": "code",
      "execution_count": 140,
      "metadata": {
        "id": "TQ_28LERx9Q4"
      },
      "outputs": [],
      "source": []
    },
    {
      "cell_type": "code",
      "execution_count": 140,
      "metadata": {
        "id": "fq2-HSgqy2EE"
      },
      "outputs": [],
      "source": []
    },
    {
      "cell_type": "code",
      "execution_count": 140,
      "metadata": {
        "id": "JBit1v07zIbF"
      },
      "outputs": [],
      "source": []
    },
    {
      "cell_type": "code",
      "execution_count": null,
      "metadata": {
        "colab": {
          "base_uri": "https://localhost:8080/"
        },
        "id": "hHKqjA-dzOXh",
        "outputId": "feb7242a-f52f-4694-8c73-a22a326a142b"
      },
      "outputs": [],
      "source": [
        "print(np.linalg.eigh(adj))"
      ]
    },
    {
      "cell_type": "code",
      "execution_count": null,
      "metadata": {
        "colab": {
          "base_uri": "https://localhost:8080/"
        },
        "id": "Fs4_JtwgVDMv",
        "outputId": "f23b30ed-c054-42ab-e192-579413acc0eb"
      },
      "outputs": [],
      "source": [
        "print(len(np.linalg.eigh(adj)[1]))"
      ]
    },
    {
      "cell_type": "code",
      "execution_count": 143,
      "metadata": {
        "id": "rmzS9TOsy2GP"
      },
      "outputs": [],
      "source": [
        "autovals , autovets = np.linalg.eig(dir_adj)"
      ]
    },
    {
      "cell_type": "code",
      "execution_count": null,
      "metadata": {
        "colab": {
          "base_uri": "https://localhost:8080/"
        },
        "id": "VgAAh2H7zDSr",
        "outputId": "8c68e3b1-a391-4bbd-c835-feeca15bb505"
      },
      "outputs": [],
      "source": [
        "print(autovals)"
      ]
    },
    {
      "cell_type": "code",
      "execution_count": null,
      "metadata": {
        "colab": {
          "base_uri": "https://localhost:8080/"
        },
        "id": "vhJ-UJw3zGnb",
        "outputId": "501035b4-6c1a-418e-bb08-9eb504a97067"
      },
      "outputs": [],
      "source": [
        "print(autovets)"
      ]
    },
    {
      "cell_type": "code",
      "execution_count": null,
      "metadata": {
        "colab": {
          "base_uri": "https://localhost:8080/"
        },
        "id": "rgQg-adetVHE",
        "outputId": "bbcd4a9a-4370-4ecd-a93c-45791ab7962e"
      },
      "outputs": [],
      "source": [
        "print(len(autovets))"
      ]
    },
    {
      "cell_type": "markdown",
      "metadata": {
        "id": "jCHA1gS1zshG"
      },
      "source": [
        "### Será que os autopares sempre são reais quando temos o grafo não direcionado?\n",
        "\n",
        "RESPOSTA:  TEOREMA ESPECTRAL ( Prof Cynthia terça que vem)"
      ]
    },
    {
      "cell_type": "markdown",
      "metadata": {
        "id": "6z59ptoa0HpF"
      },
      "source": [
        "# Centralidade"
      ]
    },
    {
      "cell_type": "markdown",
      "metadata": {
        "id": "Y1jgTAUP1AdJ"
      },
      "source": [
        "Considere uma rede com um conjunto de nós $ N = \\{1, \\ldots, n\\} $ e uma matriz de adjacência $ g = [g_{ij}]_{i,j \\in N} $, onde $ g_{ij} = 1 $ indica uma conexão do nó $ i $ para o nó $ j $ e $ g_{ij} = 0 $ indica a ausência dessa conexão.\n",
        "\n",
        "Desejamos uma medida da importância de um nó, onde um nó é considerado importante se outros nós importantes estiverem conectados a ele. Por exemplo, um website importante é aquele que muitos outros websites importantes linkam."
      ]
    },
    {
      "cell_type": "markdown",
      "metadata": {
        "id": "OLYsBQeq1gp5"
      },
      "source": [
        "Para deixar mais claro, veja o nosso grafo anterior"
      ]
    },
    {
      "cell_type": "code",
      "execution_count": null,
      "metadata": {
        "colab": {
          "base_uri": "https://localhost:8080/",
          "height": 516
        },
        "id": "jQpLJJMi1nLS",
        "outputId": "eed5fd6b-312e-48e2-d5f0-a53d67564abd"
      },
      "outputs": [],
      "source": [
        "nx.draw(G,with_labels=True)"
      ]
    },
    {
      "cell_type": "code",
      "execution_count": null,
      "metadata": {
        "colab": {
          "base_uri": "https://localhost:8080/",
          "height": 516
        },
        "id": "TDTQ8lY01_eT",
        "outputId": "6d19eafc-73af-4f0c-f75e-73978b5b2147"
      },
      "outputs": [],
      "source": [
        "import networkx as nx\n",
        "import matplotlib.pyplot as plt\n",
        "\n",
        "\n",
        "target_node = 'd'\n",
        "\n",
        "targets= ['d', 'e']\n",
        "\n",
        "node_colors = ['lightgray' if node not in targets else 'red' for node in G.nodes()]\n",
        "\n",
        "nx.draw(G, with_labels=True, node_color=node_colors, node_size=500)\n",
        "\n",
        "plt.show()\n"
      ]
    },
    {
      "cell_type": "markdown",
      "metadata": {
        "id": "ZS0pk2sA2KZY"
      },
      "source": [
        "Fica claro, que esse nó tem uma propriedade interessante, que os outros não tem. Ele é um nó mais \"central\". É isso que iremos buscar quando trabalhamos com medidas de centralidade"
      ]
    },
    {
      "cell_type": "markdown",
      "metadata": {
        "id": "bcc03gjQ32o8"
      },
      "source": [
        "### Degree Centrality\n",
        "\n",
        "Uma dessas medidas é o grau. Ele é definido como o número de arestas de cada nó. Ou seja, o grau do nó `b` é 1, pois apenas uma aresta chega nele."
      ]
    },
    {
      "cell_type": "markdown",
      "metadata": {
        "id": "uOQBi7-E4mUW"
      },
      "source": [
        "#### Ache no grafo não direcionado `G` os 2 nós com maior grau e plot com cores que os diferencia dos demais"
      ]
    },
    {
      "cell_type": "code",
      "execution_count": null,
      "metadata": {
        "colab": {
          "base_uri": "https://localhost:8080/"
        },
        "id": "k0DEu3RJ5Trs",
        "outputId": "00032dd2-c122-4bd8-f2f4-845cd07cbb18"
      },
      "outputs": [],
      "source": [
        "for i in range(len(G.nodes())):\n",
        "    print(np.sum(adj[i]))"
      ]
    },
    {
      "cell_type": "markdown",
      "metadata": {
        "id": "GYbsmnhi5Avb"
      },
      "source": [
        "#### Faça o mesmo para o grafo direcionado, mas usando os conceitos de grau de saída(arestas saindo do vértice) e grau de entrada ( arestas chegando no vértice)"
      ]
    },
    {
      "cell_type": "code",
      "execution_count": null,
      "metadata": {
        "colab": {
          "base_uri": "https://localhost:8080/"
        },
        "id": "hcF9bHX05jWe",
        "outputId": "54fc09f7-c0ec-4e32-9f73-dc82f17a7591"
      },
      "outputs": [],
      "source": [
        "for i in range(len(DG.nodes())):\n",
        "    print(np.sum(dir_adj[:,i]))"
      ]
    },
    {
      "cell_type": "code",
      "execution_count": null,
      "metadata": {
        "colab": {
          "base_uri": "https://localhost:8080/"
        },
        "id": "8JFezlYQy2Ku",
        "outputId": "18bf67ae-d83e-4c1f-a5c3-3908d479d2a4"
      },
      "outputs": [],
      "source": [
        "print(dir_adj)"
      ]
    },
    {
      "cell_type": "code",
      "execution_count": null,
      "metadata": {
        "colab": {
          "base_uri": "https://localhost:8080/"
        },
        "id": "K94J2do7y4g4",
        "outputId": "2600d68c-0374-464f-9a0b-65a7343fe58f"
      },
      "outputs": [],
      "source": [
        "for i in range(len(DG.nodes())):\n",
        "  print(dir_adj[i,:])"
      ]
    },
    {
      "cell_type": "code",
      "execution_count": null,
      "metadata": {
        "colab": {
          "base_uri": "https://localhost:8080/"
        },
        "id": "H86iJ12uy-rc",
        "outputId": "3516edf4-b0b8-4779-fcb4-059971c47dfc"
      },
      "outputs": [],
      "source": [
        "for i in range(len(DG.nodes())):\n",
        "  print(dir_adj[:,i])"
      ]
    },
    {
      "cell_type": "code",
      "execution_count": null,
      "metadata": {
        "colab": {
          "base_uri": "https://localhost:8080/"
        },
        "id": "jEvYCiyYx3-T",
        "outputId": "c6958a07-6845-4683-c952-c2b90361a44a"
      },
      "outputs": [],
      "source": [
        "for i in range(len(DG.nodes())):\n",
        "    print(np.sum(dir_adj[i,:]))"
      ]
    },
    {
      "cell_type": "code",
      "execution_count": null,
      "metadata": {
        "colab": {
          "base_uri": "https://localhost:8080/",
          "height": 516
        },
        "id": "vKZg7oU-yH01",
        "outputId": "141cc0d8-cd29-41b1-b3b8-d06acdbb64ba"
      },
      "outputs": [],
      "source": [
        "nx.draw(DG, with_labels=True)"
      ]
    },
    {
      "cell_type": "markdown",
      "metadata": {
        "id": "0JZ9SVo900pm"
      },
      "source": [
        "## Eigenvector Centrality\n",
        "\n",
        "\n",
        "\n",
        "A medida é a **centralidade de \"autovetor\"**: um vetor não nulo $ c = (c_i)_{i \\in N} $ tal que, para algum escalar $ \\lambda > 0 $:\n",
        "\n",
        "$$\n",
        "\\lambda c_i = \\sum_{j \\neq i} g_{ji} c_j \\quad \\text{para todo } i \\in N.\n",
        "$$\n",
        "\n",
        "Isto é, a centralidade de cada nó $ i $ é proporcional à soma das centralidades de seus vizinhos.\n",
        "\n",
        "Note que usamos $ g_{ji} $ em vez de $ g_{ij} $. Isso não importa para grafos não direcionados, mas para grafos direcionados, indica que a centralidade de um nó deriva da centralidade dos nós que apontam para ele.\n",
        "\n",
        "### Interpretação\n",
        "Quando nós “importantes” ou “prestigiados” apontam para você, isso te torna importante/prestigiado também. As equações permanecem válidas se multiplicarmos $ c $ por um escalar, então normalmente normalizamos $ c $ para que $ \\sum_{i \\in N} c_i = 1 $.\n",
        "\n",
        "## Exemplo\n",
        "Suponha $ n = 3 $ e a matriz de adjacência:\n",
        "\n",
        "$$\n",
        "g = \\begin{bmatrix}\n",
        "0 & 1 & 1 \\\\\n",
        "1 & 0 & 1 \\\\\n",
        "0 & 0 & 0\n",
        "\\end{bmatrix}\n",
        "$$\n",
        "\n",
        "A eigenvector centrality (com a normalização $ \\sum_{i \\in N} c_i = 1 $) é definida como a solução do sistema de equações:\n",
        "\n",
        "$$\n",
        "\\begin{align*}\n",
        "\\lambda c_1 &= c_2 \\\\\n",
        "\\lambda c_2 &= c_1 \\\\\n",
        "\\lambda c_3 &= c_1 + c_2 \\\\\n",
        "c_1 + c_2 + c_3 &= 1.\n",
        "\\end{align*}\n",
        "$$\n",
        "\n",
        "Resolvendo esse sistema, obtemos:\n",
        "\n",
        "$$\n",
        "\\lambda = 1, \\quad c_1 = c_2 = \\frac{1}{4}, \\quad c_3 = \\frac{1}{2}.\n",
        "$$\n",
        "\n",
        "\n"
      ]
    },
    {
      "cell_type": "markdown",
      "metadata": {
        "id": "7EPENawDBA5k"
      },
      "source": [
        "### Calcule o eigenvector centrality para o seguinte grafo na mão"
      ]
    },
    {
      "cell_type": "code",
      "execution_count": null,
      "metadata": {
        "colab": {
          "base_uri": "https://localhost:8080/",
          "height": 516
        },
        "id": "bQMRyBhOChP8",
        "outputId": "e535b277-5d88-461a-d3e0-d05bc6433db9"
      },
      "outputs": [],
      "source": [
        "nx.draw(nx.complete_graph(4))"
      ]
    },
    {
      "cell_type": "markdown",
      "metadata": {
        "id": "-xqHybwRcnnf"
      },
      "source": [
        "$$\\lambda c_1 = c_2+c_3 + c_4$$\n",
        "$$\\lambda c_2 = c_1+c_3 + c_4$$\n",
        "$$\\lambda c_3 = c_1+c_2 + c_4$$\n",
        "$$\\lambda c_4 = c_1+c_2 + c_3$$\n",
        "\n",
        "$$c1+c2+c3+c4 =1$$"
      ]
    },
    {
      "cell_type": "markdown",
      "metadata": {
        "id": "jx-bPtfmETep"
      },
      "source": [
        "Em notação matricial, a equação para o eigenvector centrality pode ser escrita como:\n",
        "\n",
        "$$\n",
        "\\lambda c = A^T c,\n",
        "$$\n",
        "\n",
        "onde $ \\lambda $ é um escalar (o maior autovalor), $ c $ é um vetor coluna $ n \\times 1 $, e $ A^T $ é a transposta da matriz de adjacência $ A $ de tamanho $ n \\times n $. Utilizamos $ A^T $ porque, em grafos direcionados, estamos interessados nos nós que apontam para o nó $ i $, ou seja, na soma $ \\sum_{j \\neq i} A_{ji} c_j $ no lado direito da equação.\n",
        "\n",
        "Em outras palavras, $ c $ é um autovetor de $ A^T $, com $ \\lambda $ sendo o autovalor correspondente.\n",
        "\n",
        "De acordo com o **Teorema de Perron-Frobenius** da álgebra linear, para toda matriz irredutível e não-negativa, o maior autovalor é positivo, e os componentes do autovetor correspondente também são todos positivos. Isso implica que a equação $ \\lambda c = A^T c $ tem uma solução positiva: $ \\lambda $ é o maior autovalor de $ A^T $, e $ c $ é o autovetor correspondente.\n",
        "\n",
        "### Interpretação como Frações de Longo Prazo\n",
        "\n",
        "Uma interpretação útil da centralidade de autovetor é como o resultado de longo prazo de um processo de reprodução. Isso também explica por que essa medida está sempre bem definida para redes fortemente conectadas. Suponha que um \"vírus\" inicie em um nó aleatório do grafo. Em cada período, o vírus envia uma cópia de si mesmo ao longo de cada aresta partindo do nó onde ele se encontra, e depois morre. Assim, temos um vírus no período 1, $ |N_i| $ vírus no período 2 (onde $ |N_i| $ é o número de vizinhos de $ i $), $ \\sum_{j \\in N_i} |N_j| $ vírus no período 3, e assim por diante.\n",
        "\n",
        "Deixando esse processo continuar indefinidamente, o vírus nunca desaparece (pois a rede é fortemente conectada), e podemos calcular a fração de longo prazo de vírus localizados em cada nó. Essa fração de longo prazo de vírus localizados no nó $ i $ é $ c_i $. Por quê? Porque a fração de longo prazo de vírus no nó $ i $ é proporcional à fração de longo prazo de vírus localizados nos nós que apontam para $ i $. Essa relação é justamente o que define a centralidade de autovetor.\n"
      ]
    },
    {
      "cell_type": "markdown",
      "metadata": {
        "id": "3tvc-dojFKK0"
      },
      "source": [
        "### Calcule a eigenvector centrality dos grafos (G e DG) anteriores usando esse novo conceito"
      ]
    },
    {
      "cell_type": "code",
      "execution_count": 150,
      "metadata": {
        "id": "HRmgmWQlFcX5"
      },
      "outputs": [],
      "source": []
    },
    {
      "cell_type": "code",
      "execution_count": 150,
      "metadata": {
        "id": "bzKqKNUvFcia"
      },
      "outputs": [],
      "source": []
    },
    {
      "cell_type": "markdown",
      "metadata": {
        "id": "XaLGeIoyKjUw"
      },
      "source": [
        "## <font color='blue'>Matrizes Positivas</font>\n",
        "\n",
        "Uma matriz $n\\times n$ onde todas as entradas são positivas, isto é $A_{ij}>0$, $\\forall i,j$, é chamada de _matriz positiva_ e denotada por $\\mathbf{A}>0$.\n",
        "\n",
        "**OBS**: Não confunda a definição de matriz positiva com a definição matriz definida positiva.\n",
        "\n",
        "**Raio Espectral**: O raio espectral de uma matriz $\\mathbf{A}$ é definido como:\n",
        "\n",
        "$$\n",
        "\\rho(\\mathbf{A})=\\max\\{|\\lambda|, \\lambda \\mbox{ autovalor de } \\mathbf{A}\\}\n",
        "$$\n",
        "\n",
        "*Limitantes para o Raio Espectral*\n",
        "\n",
        "Seja $\\mathbf{A}$ uma matriz $n\\times n$ positiva, $r_i = \\sum_k a_{ik}$ (soma dos elementos da linha $i$) e  $c_j = \\sum_k a_{kj}$ (soma dos elementos da coluna $j$). Então temos:\n",
        "\n",
        "$$\n",
        "\\min_i r_i \\leq \\rho(\\mathbf{A}) \\leq \\max_i r_i\\\\\n",
        "\\min_j c_j \\leq \\rho(\\mathbf{A}) \\leq \\max_j c_j\n",
        "$$\n",
        "\n",
        "*Normalização do Raio Espectral*\n",
        "\n",
        "Podemos sempre normalizar uma matriz positiva de modo que seu raio espectral seja 1, pois, $\\mathbf{A}x=\\lambda x \\rightarrow \\frac{1}{\\lambda}\\mathbf{A}x=x$ logo $\\rho(\\mathbf{A})=r\\Longrightarrow\\rho(\\mathbf{A}/r)=1$."
      ]
    },
    {
      "cell_type": "markdown",
      "metadata": {
        "id": "NaIWxsH-KjUx"
      },
      "source": [
        "### Teoram de Perron:\n",
        "Se $\\mathbf{A}>0$ então $\\rho(\\mathbf{A})$ é um autovalor e o autovetor correspondente é positivo, ou seja, $\\mathbf{A}$ possui um autopar da forma $(\\rho(\\mathbf{A}),\\mathbf{v})$, onde $\\mathbf{v}>0$. Além disso,\n",
        "\n",
        "- $\\rho(\\mathbf{A})$ é o único autovalor no círculo espectral de $\\mathbf{A}$, ou seja, $\\forall$ autovalor $\\lambda\\neq\\rho(\\mathbf{A})$, $|\\lambda|<\\rho(\\mathbf{A})$.\n",
        "\n",
        "\n",
        "**OBS:** $\\rho(\\mathbf{A})\\in \\mathbb{R}$\n",
        "\n",
        "**Demonstração**: [Meyer, C.D. 2001] Capítulo 8 (uma prova alternativa pode ser encontrata [aqui](https://iuuk.mff.cuni.cz/~rakdver/linalg/lesson15-9.pdf))."
      ]
    },
    {
      "cell_type": "code",
      "execution_count": null,
      "metadata": {
        "colab": {
          "base_uri": "https://localhost:8080/",
          "height": 661
        },
        "id": "3KcnGxcYKjUx",
        "outputId": "cdea1921-2580-4fc7-8666-b47d88514e14"
      },
      "outputs": [],
      "source": [
        "import numpy as np\n",
        "import matplotlib.pyplot as plt\n",
        "\n",
        "A = np.random.uniform(0.01,1.0,size=(30,30))\n",
        "\n",
        "e_val, e_vec = np.linalg.eig(A)\n",
        "print('Cinco maiores autovalores em valor absoluto:\\n',e_val[:5])\n",
        "print('\\nAutovetor associado ao raio espectra:\\n',e_vec[:,0])\n",
        "\n",
        "p_eval = [(x.real,x.imag) for x in e_val]\n",
        "id_max = np.argmax(np.abs(e_val))\n",
        "e_val_max = np.abs(e_val[id_max])\n",
        "\n",
        "fig, ax = plt.subplots(nrows=1,ncols=2,figsize=(10, 5))\n",
        "ax[0].set_aspect('equal')\n",
        "\n",
        "t = np.linspace(0,6.28,50)\n",
        "ax[0].plot(e_val_max*np.cos(t),e_val_max*np.sin(t))\n",
        "\n",
        "for x,y in p_eval:\n",
        "    if np.abs(y) > 1.0e-7:\n",
        "        ax[0].scatter(x,y,color='gray',s=3)\n",
        "    else:\n",
        "        ax[0].scatter(x,y,color='blue',s=3)\n",
        "\n",
        "ax[0].scatter(p_eval[id_max][0],p_eval[id_max][1],color='red')\n",
        "\n",
        "ax[1].set_aspect('equal')\n",
        "ax[1].set(xlim=(-2, 2), ylim=(-2, 2), autoscale_on=False)\n",
        "for x,y in p_eval:\n",
        "    if np.abs(y) > 1.0e-7:\n",
        "        ax[1].scatter(x,y,color='gray',s=10)\n",
        "    else:\n",
        "        ax[1].scatter(x,y,color='blue',s=10)\n",
        "\n",
        "ax[0].annotate('circulo espectral',xy=(e_val_max*np.cos(np.pi/3),e_val_max*np.sin(np.pi/3)),\n",
        "                xytext=(-8,e_val_max*np.sin(np.pi/4)),arrowprops=dict(facecolor='black', shrink=0.01))\n",
        "\n",
        "ax[0].text(-5,-7,'disco espectral')"
      ]
    },
    {
      "cell_type": "markdown",
      "metadata": {
        "id": "4luv06U8KjUz"
      },
      "source": [
        "#### Multiplicidade Algébrica e Geométrica\n",
        "A multiplicidade algébrica de um autovalor $\\lambda$, denotada $multalg(\\lambda)$, é o número de vezes que $\\lambda$ aparece como raíz do polinômio $\\det(\\mathbf{A}-\\lambda \\mathbf{I})$.\n",
        "\n",
        "A multiplicidade geométrica de um autovalor $\\lambda$, denotada $multgeo(\\lambda)$, é a dimensão do núcleo da transformação $(\\mathbf{A}-\\lambda \\mathbf{I})$."
      ]
    },
    {
      "cell_type": "markdown",
      "metadata": {
        "id": "r1-nmjU6KjUz"
      },
      "source": [
        "### Propriedade 1:\n",
        "Se $\\mathbf{A}>0$ então $multalg(\\rho(\\mathbf{A}))=multgeo(\\rho(\\mathbf{A}))=1$.\n",
        "\n",
        "**Demonstração**: [Meyer, C.D. 2001] Capítulo 8\n",
        "\n",
        "A propriedade 2 garante que o autovetor $\\mathbf{v}$ associado ao autovalor $r=\\rho(\\mathbf{A})$ é único. O vetor $\\mathbf{p}=\\frac{\\mathbf{v}}{\\|\\mathbf{v}\\|_1}$ ($\\mathbf{v}$ dividido pela soma dos elementos de $\\mathbf{v}$) é chamado de **vetor de Perron** da matriz $\\mathbf{A}$ e o par $(r,\\mathbf{p})$ é chamado de **autopar de Perron**.\n",
        "\n",
        "Note que, $\\mathbf{A}>0\\rightarrow\\mathbf{A}^\\top>0$ e como $\\mathbf{A}$ e $\\mathbf{A}^\\top$ possuem os mesmos autovalores, então $r=\\rho(\\mathbf{A})$ é autovalor de $\\mathbf{A}^T$.\n",
        "\n",
        "Assim, temos que\n",
        "$$\\mathbf{A}^\\top\\mathbf{q}=r\\mathbf{q}\\Longrightarrow \\mathbf{q}^\\top\\mathbf{A}=r\\mathbf{q}^\\top$$\n",
        "\n",
        "Se $\\mathbf{q}$ for normalizado como o vetor $\\mathbf{p}$, então o vetor $\\mathbf{q}^\\top$ é chamado de **vetor de Perron à esquerda** da matriz $\\mathbf{A}$.\n",
        "\n",
        "**OBS**: Por definição, $\\mathbf{p}=[p_1,\\ldots,p_n]$, $\\sum_i p_i = 1$"
      ]
    },
    {
      "cell_type": "markdown",
      "metadata": {
        "id": "deHOZ7raKjUz"
      },
      "source": [
        "## <font color='blue'>Matrizes Não-Negativas</font>\n",
        "\n",
        "Vamos analisar agora a possibilidade de que a matriz admita entradas iguais a zero, ou seja, uma matriz $\\mathbf{A}$ é não-negativa se $\\mathbf{A}\\geq 0$.\n",
        "\n",
        "Neste caso, não é difícil mostrar que:\n",
        "\n",
        "- $r=\\rho(\\mathbf{A})$ é autovalor de $\\mathbf{A}$ (porém $r=0$ é possível)\n",
        "- $\\mathbf{A}\\mathbf{v}=r\\mathbf{v}$ para algum $\\mathbf{v}\\in\\mathcal{N}=\\{\\mathbf{x}|\\mathbf{x}\\geq 0, \\mathbf{x}\\neq 0\\}$\n",
        "\n",
        "**OBS**: Além do fato de $r=0$ ser possível e do autovetor associado a $r$ ser não-negativo (ao invés de positivo), sem hipóteses adicionais, as seguintes propridades de matrizes positivas deixam de valer para matrizes não-negativa:\n",
        "\n",
        "- A multiplicidade algébrica e geométrica de $r$ pode não ser 1\n",
        "- $r$ pode não ser o único autovalor no circulo espectral de $\\mathbf{A}$"
      ]
    },
    {
      "cell_type": "code",
      "execution_count": 152,
      "metadata": {
        "id": "TMHvkvxzKjUz"
      },
      "outputs": [],
      "source": [
        "import numpy as np\n",
        "from scipy.sparse.linalg import eigs as eigs"
      ]
    },
    {
      "cell_type": "code",
      "execution_count": null,
      "metadata": {
        "colab": {
          "base_uri": "https://localhost:8080/"
        },
        "id": "UNSotnVdKjU0",
        "outputId": "1364f821-6465-41a6-a082-56a321905ebc"
      },
      "outputs": [],
      "source": [
        "A = np.random.uniform(0,1,size=(10,10))\n",
        "\n",
        "A[np.random.randint(0,10,5),np.random.randint(0,10,5)] = 0.0\n",
        "#print(A)\n",
        "\n",
        "lbda, v = eigs(A,k=5,which='LM')\n",
        "print(lbda)\n",
        "\n",
        "for i in lbda:\n",
        "    print(np.linalg.norm(i))"
      ]
    },
    {
      "cell_type": "markdown",
      "metadata": {
        "id": "fjzCo3WCKjU0"
      },
      "source": [
        "## <font color='blue'>Matrizes Redutíveis</font>\n",
        "Uma matriz não-negativa $\\mathbf{A}$ é dita _redutível_ se existe uma matriz de permutação $\\mathbf{P}$ tal que\n",
        "\n",
        "$$\n",
        "\\mathbf{P}^\\top\\mathbf{A}\\mathbf{P} =\n",
        "\\begin{bmatrix}\n",
        "\\mathbf{X} & \\mathbf{Y}\\\\\n",
        "0 & \\mathbf{W}\n",
        "\\end{bmatrix}\n",
        "$$\n",
        "\n",
        "Caso contrário a matriz é chamada _irredutível_. A transformação $\\mathbf{P}^\\top\\mathbf{A}\\mathbf{P}$ troca a posição de linhas e colunas com mesmo índice."
      ]
    },
    {
      "cell_type": "code",
      "execution_count": null,
      "metadata": {
        "colab": {
          "base_uri": "https://localhost:8080/"
        },
        "id": "9pOAGK2JKjU1",
        "outputId": "773a7a5e-7556-4be8-b6fb-b313a54da734"
      },
      "outputs": [],
      "source": [
        "import numpy as np\n",
        "\n",
        "A = np.asarray([[2,0],[3,4]])\n",
        "P = np.asarray([[0,1],[1,0]])\n",
        "\n",
        "print('A=\\n',A)\n",
        "print('\\nP=\\n',P)\n",
        "\n",
        "print('\\nP.T A P=\\n',np.dot(P.T,np.dot(A,P)))"
      ]
    },
    {
      "cell_type": "markdown",
      "metadata": {
        "id": "icP8QDEQKjU1"
      },
      "source": [
        "### Grafo associado a matriz Não-Negativa\n",
        "\n",
        "Uma **matriz não-negativa** $\\mathbf{A}$ $n\\times n$ pode ser associada a um **grafo dirigido** $\\mathcal{G}(\\mathbf{A})$ com $n$ vértices $\\{v_1,\\ldots,v_n\\}$ no qual uma aresta saindo do vértice $v_i$ para o vértice $v_j$ se e só se $A_{ij}>0$.\n",
        "\n",
        "- $\\mathcal{G}(\\mathbf{P}^\\top\\mathbf{A}\\mathbf{P}) = \\mathcal{G}(\\mathbf{A})$, uma vez que a permutação tem apenas o efeito de reindexar os vértices.\n",
        "- $\\mathcal{G}(\\mathbf{A})$ é dita _fortemente connectado_ se para qualquer par de vértices $v_i$ e $v_j$ existe um caminho dirigido saindo de $v_i$ e chegando em $v_j$.\n",
        "\n"
      ]
    },
    {
      "cell_type": "code",
      "execution_count": 155,
      "metadata": {
        "id": "xt9u3KKZKjU1"
      },
      "outputs": [],
      "source": [
        "import numpy as np\n",
        "import matplotlib.pyplot as plt"
      ]
    },
    {
      "cell_type": "code",
      "execution_count": null,
      "metadata": {
        "colab": {
          "base_uri": "https://localhost:8080/"
        },
        "id": "B0_dDlVBKjU1",
        "outputId": "03b20ebd-7849-408e-9a1f-d801bf8d290a"
      },
      "outputs": [],
      "source": [
        "n = 10\n",
        "idr = np.random.randint(0,n,15)\n",
        "idc = np.random.randint(0,n,15)\n",
        "A = np.zeros((n,n))\n",
        "A[idr,idc] = 1\n",
        "print(A)"
      ]
    },
    {
      "cell_type": "code",
      "execution_count": null,
      "metadata": {
        "colab": {
          "base_uri": "https://localhost:8080/",
          "height": 522
        },
        "id": "UMHrH84YKjU2",
        "outputId": "0b739250-6340-493a-c7bc-78231d330feb"
      },
      "outputs": [],
      "source": [
        "edges = np.where(A > 0)\n",
        "X = np.random.uniform(0,1,size=(n,2))\n",
        "\n",
        "f,ax = plt.subplots(figsize=(6,6))\n",
        "for i in zip(edges[0],edges[1]):\n",
        "    dx = np.array([X[i[1],0]-X[i[0],0],X[i[1],1]-X[i[0],1]])\n",
        "    ax.arrow(X[i[0],0],X[i[0],1],dx[0],dx[1],head_width=0.03,length_includes_head=True)\n",
        "\n",
        "eps = 0.01\n",
        "for i in range(n):\n",
        "    ax.scatter(X[i,0],X[i,1])\n",
        "    ax.text(X[i,0]+eps,X[i,1]+eps,str(i))"
      ]
    },
    {
      "cell_type": "markdown",
      "metadata": {
        "id": "RquGtu6VKjU2"
      },
      "source": [
        "### Propriedade 2:\n",
        "Uma matriz não-negativa $\\mathbf{A}$ é irredutível se e só se $\\mathcal{G}(\\mathbf{A})$ é fortemente connectado."
      ]
    },
    {
      "cell_type": "markdown",
      "metadata": {
        "id": "YkU-8hwzKjU2"
      },
      "source": [
        "### <font color='blue'>Teorema de Perron-Frobenius</font>\n",
        "Seja $\\mathbf{A}$ uma matriz não-negativa irredutível, então $\\mathbf{A}$ tem as seguintes propriedades:\n",
        "\n",
        "- $r=\\rho(\\mathbf{A})$, $r>0$ é autovalor de $\\mathbf{A}$<br><br>\n",
        "\n",
        "- $multalg(r)=multgeo(r)=1$<br><br>\n",
        "\n",
        "- O autovetor $\\mathbf{A}\\mathbf{p}=r\\mathbf{p}$, $\\mathbf{p}>0$, $\\|\\mathbf{p}\\|_1=1$ é único (vetor de Perron)\n",
        "\n",
        "**OBS**:\n",
        "\n",
        "1. A única propriedade de matriz positiva não assegurada por uma matriz irredutível é a unicidade de $r$ no círuclo espectral. Porém, se $\\mathbf{A}$ é irredutível, temos que $multalg(r)=1$.\n",
        "\n",
        "2. Outra questão importante é como verificar se uma matriz é irredutível"
      ]
    },
    {
      "cell_type": "markdown",
      "metadata": {
        "id": "rV7J6Y9lKjU2"
      },
      "source": [
        "## <font color='blue'>Matrizes Primitivas</font>\n",
        "Uma matriz não-negativa irredutível que contém apenas um autovalor $r=\\rho(\\mathbf{A})$ no seu círculo espectral é chamada _matriz primitiva_, caso contrário a matriz é chamada _imprimitiva_."
      ]
    },
    {
      "cell_type": "markdown",
      "metadata": {
        "id": "z5qG_WgIKjU2"
      },
      "source": [
        "### Propriedade 4: (teste de Frobenius)\n",
        "Uma matriz $\\mathbf{A}\\geq 0$ é primitiva se e só se $\\mathbf{A}^m>0$ para algum $m$."
      ]
    }
  ],
  "metadata": {
    "colab": {
      "provenance": []
    },
    "kernelspec": {
      "display_name": "Python 3",
      "name": "python3"
    },
    "language_info": {
      "name": "python",
      "version": "3.12.6"
    }
  },
  "nbformat": 4,
  "nbformat_minor": 0
}
